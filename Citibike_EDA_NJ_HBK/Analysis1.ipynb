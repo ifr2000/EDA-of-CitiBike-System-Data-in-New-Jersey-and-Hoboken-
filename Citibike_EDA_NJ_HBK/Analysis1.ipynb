{
 "cells": [
  {
   "cell_type": "code",
   "execution_count": null,
   "metadata": {},
   "outputs": [],
   "source": [
    "import numpy as np\n",
    "import pandas as pd\n",
    "from pandas import Series , DataFrame\n",
    "import matplotlib.pyplot as plt\n",
    "import plotly.express as px"
   ]
  },
  {
   "cell_type": "code",
   "execution_count": null,
   "metadata": {},
   "outputs": [],
   "source": [
    "import glob\n",
    "glob.glob('C:\\\\Users\\\\Ivan Francis\\\\Desktop\\\\GMU\\\\AIT 580\\\\Project_AIT580\\\\Excel_sheets\\\\JC*.csv')"
   ]
  },
  {
   "cell_type": "code",
   "execution_count": null,
   "metadata": {},
   "outputs": [],
   "source": [
    "all_dfs = []\n",
    "for one_filename in glob.glob('C:\\\\Users\\\\Ivan Francis\\\\Desktop\\\\GMU\\\\AIT 580\\\\Project_AIT580\\\\Excel_sheets\\\\JC*.csv'):\n",
    "    print(f'Loading {one_filename}')\n",
    "    new_df = pd.read_csv(one_filename,\n",
    "                         usecols=['ride_id','rideable_type','started_at','ended_at','start_station_name','start_station_id','end_station_name',\n",
    "                                  'end_station_id','start_lat','start_lng','end_lat','end_lng','member_casual','birth year','gender'])\n",
    "    all_dfs.append(new_df)"
   ]
  },
  {
   "cell_type": "code",
   "execution_count": null,
   "metadata": {},
   "outputs": [],
   "source": [
    "len(all_dfs)"
   ]
  },
  {
   "cell_type": "code",
   "execution_count": null,
   "metadata": {},
   "outputs": [],
   "source": [
    "Citibike =pd.concat(all_dfs)"
   ]
  },
  {
   "cell_type": "code",
   "execution_count": null,
   "metadata": {},
   "outputs": [],
   "source": [
    "Citibike.shape"
   ]
  },
  {
   "cell_type": "code",
   "execution_count": null,
   "metadata": {},
   "outputs": [],
   "source": [
    "first_row = Citibike.head(1)\n",
    "last_row = Citibike.tail(1)"
   ]
  },
  {
   "cell_type": "code",
   "execution_count": null,
   "metadata": {},
   "outputs": [],
   "source": [
    "first_row"
   ]
  },
  {
   "cell_type": "code",
   "execution_count": null,
   "metadata": {},
   "outputs": [],
   "source": [
    "last_row"
   ]
  },
  {
   "cell_type": "code",
   "execution_count": null,
   "metadata": {},
   "outputs": [],
   "source": [
    "import missingno as msg\n",
    "msg.matrix(Citibike)"
   ]
  },
  {
   "cell_type": "code",
   "execution_count": null,
   "metadata": {},
   "outputs": [],
   "source": [
    "#Checking the missing values with respect to each column in the dataset.\n",
    "Citibike.isnull().sum()"
   ]
  },
  {
   "cell_type": "code",
   "execution_count": null,
   "metadata": {},
   "outputs": [],
   "source": [
    "#Checking for the datatypes of each column in the dataset.\n",
    "Citibike.info()\n"
   ]
  },
  {
   "attachments": {},
   "cell_type": "markdown",
   "metadata": {},
   "source": [
    "We observe that the start time and end time are object datatypes. For your analysis we need to convert them to date/time format."
   ]
  },
  {
   "cell_type": "code",
   "execution_count": null,
   "metadata": {},
   "outputs": [],
   "source": [
    "Citibike['started_at'] = pd.to_datetime(Citibike['ended_at'])\n",
    "Citibike['ended_at'] = pd.to_datetime(Citibike['ended_at'])"
   ]
  },
  {
   "attachments": {},
   "cell_type": "markdown",
   "metadata": {},
   "source": [
    "We also need to check if the the station id's are consistent with the station name."
   ]
  },
  {
   "cell_type": "code",
   "execution_count": null,
   "metadata": {},
   "outputs": [],
   "source": [
    "print('Total Unique Station ID:', len(pd.unique(Citibike['start_station_id'])), '\\n',\n",
    "      'Total Unique Start Station Names:', len(pd.unique(Citibike['start_station_name'])))"
   ]
  },
  {
   "cell_type": "code",
   "execution_count": null,
   "metadata": {},
   "outputs": [],
   "source": [
    "print('Total Unique Station ID:', len(pd.unique(Citibike['end_station_id'])), '\\n',\n",
    "      'Total Unique End Station Names:', len(pd.unique(Citibike['end_station_name'])))"
   ]
  },
  {
   "attachments": {},
   "cell_type": "markdown",
   "metadata": {},
   "source": [
    "Now for the Stations we see that some station names have different Id's. However, it is acceptable to have different ids rather than different names for the same id because we would expect the same name for a given id, but there may be a new id generated for the stations. As a result, this will not have much effect on the aggregate."
   ]
  },
  {
   "cell_type": "code",
   "execution_count": null,
   "metadata": {},
   "outputs": [],
   "source": [
    "Citibike['start_year'] = Citibike['started_at'].dt.year\n",
    "Citibike['weekday'] = Citibike['started_at'].dt.day_name()\n",
    "Citibike['hour'] = Citibike['started_at'].dt.hour"
   ]
  },
  {
   "cell_type": "code",
   "execution_count": null,
   "metadata": {},
   "outputs": [],
   "source": [
    "Citibike_agg = Citibike.groupby(['weekday', 'hour'], as_index=False).agg(\n",
    "    trip_count= pd.NamedAgg(column='start_station_id', aggfunc='count')\n",
    ")"
   ]
  },
  {
   "cell_type": "code",
   "execution_count": null,
   "metadata": {},
   "outputs": [],
   "source": [
    "plot_1 = px.line(Citibike_agg, x='hour', y='trip_count', color='weekday',\n",
    "               title='Citibike Trips by Weekdays and for each Hour of the day from March 2021 to 2023',\n",
    "               category_orders={'weekday':['Monday', 'Tuesday', 'Wednesday', 'Thursday', 'Friday', 'Saturday', 'Sunday']},\n",
    "               labels={'hour':'Time', 'trip_count':'Trip Count', 'weekday':'Day of Week'},\n",
    "               color_discrete_sequence=px.colors.qualitative.Set1\n",
    ")"
   ]
  },
  {
   "cell_type": "code",
   "execution_count": null,
   "metadata": {},
   "outputs": [],
   "source": [
    "plot_1.update_traces(line={'width':3})\n",
    "plot_1.update_layout(hovermode='x')\n",
    "plot_1.update_xaxes(tickmode='array', tickvals=[0, 3, 5, 8, 11, 14, 17, 20, 23],\n",
    "                 ticktext=['12 am', '3 am', '5 am', '8 am', '11 am', '2 pm', '5 pm', '8 pm', '11 pm'])\n",
    "\n",
    "plot_1.show()"
   ]
  },
  {
   "cell_type": "code",
   "execution_count": null,
   "metadata": {},
   "outputs": [],
   "source": [
    "grouped = Citibike.groupby(['weekday', 'hour', 'member_casual'], as_index=False)['ride_id'].count()\n"
   ]
  },
  {
   "cell_type": "code",
   "execution_count": null,
   "metadata": {},
   "outputs": [],
   "source": [
    "fig = px.line(grouped, x='hour', y='ride_id', color='member_casual',\n",
    "              facet_col='weekday', facet_col_wrap=3,\n",
    "              title='Citibike Trips by Hour of Day and User Type from the Period of March 2021-2023',\n",
    "              category_orders={'weekday':['Monday', 'Tuesday', 'Wednesday', 'Thursday', 'Friday', 'Saturday', 'Sunday']},\n",
    "              labels={'hour':'Time of the Day', 'ride_id':'Trip Count', 'member_casual':'User Type'},\n",
    "              color_discrete_sequence=['#1f77b4', '#ff7f0e'])"
   ]
  },
  {
   "cell_type": "code",
   "execution_count": null,
   "metadata": {},
   "outputs": [],
   "source": [
    "fig.update_traces(line={'width':3})\n",
    "fig.update_layout(hovermode='x')\n",
    "fig.for_each_annotation(lambda a: a.update(text=\"Day : \" + a.text.split(\"=\")[1]))\n",
    "timestamps = ['12 am', '3 am', '6 am', '9 am', '12 pm', '3 pm', '6 pm', '9 pm']\n",
    "for i in range(len(fig.layout.annotations)):\n",
    "    fig.update_xaxes(title='', tickmode='array', tickvals=[0, 3, 5, 8, 11, 14, 17, 20], ticktext=timestamps, row=i//3+1, col=i%3+1)\n",
    "\n",
    "fig.show()"
   ]
  },
  {
   "attachments": {},
   "cell_type": "markdown",
   "metadata": {},
   "source": [
    "Trips by Gender and Age."
   ]
  },
  {
   "cell_type": "code",
   "execution_count": null,
   "metadata": {},
   "outputs": [],
   "source": [
    "Citibike['Age'] = 2023 - Citibike['birth year']"
   ]
  },
  {
   "cell_type": "code",
   "execution_count": null,
   "metadata": {},
   "outputs": [],
   "source": [
    "Citibike['rider_age'] = Citibike['Age'] - 7"
   ]
  },
  {
   "cell_type": "code",
   "execution_count": null,
   "metadata": {},
   "outputs": [],
   "source": [
    "print(Citibike.head())"
   ]
  },
  {
   "cell_type": "code",
   "execution_count": null,
   "metadata": {},
   "outputs": [],
   "source": [
    "age_plt = px.box(Citibike, y='rider_age', title='Age Distribution Boxplot')\n",
    "age_plt.show()"
   ]
  },
  {
   "attachments": {},
   "cell_type": "markdown",
   "metadata": {},
   "source": [
    "The box plot tells us that there are outliers present in the data. As it is safe to assume that senior citizens in New Jersey are using the Citibike transportation system. However, the frequency of riders with the age above 100 seems very less probable. So I ignore those numbers because it is safe to assume that someone above the age of 100 cannot ride a bike."
   ]
  },
  {
   "attachments": {},
   "cell_type": "markdown",
   "metadata": {},
   "source": [
    "So While visualizing the plot to understand trips on the basis of gender and riders age we follow the above."
   ]
  },
  {
   "cell_type": "code",
   "execution_count": null,
   "metadata": {},
   "outputs": [],
   "source": [
    "Citibike['gender'] = Citibike['gender'].replace({0: 'Unknown', 1: 'Male', 2: 'Female'})"
   ]
  },
  {
   "cell_type": "code",
   "execution_count": null,
   "metadata": {},
   "outputs": [],
   "source": [
    "# group trips by age and gender and count the number of trips\n",
    "trips_agg = Citibike.groupby(['rider_age', 'gender'], as_index=False)['start_station_id'].count()\n"
   ]
  },
  {
   "cell_type": "code",
   "execution_count": null,
   "metadata": {},
   "outputs": [],
   "source": [
    "trips_agg = Citibike.groupby(['rider_age', 'gender'], as_index=False).agg(\n",
    "    trip_count=pd.NamedAgg(column='start_station_id', aggfunc='count')\n",
    ")"
   ]
  },
  {
   "cell_type": "code",
   "execution_count": null,
   "metadata": {},
   "outputs": [],
   "source": [
    "# filter out ages over 100\n",
    "trips_agg = trips_agg[trips_agg['rider_age'] < 100]"
   ]
  },
  {
   "cell_type": "code",
   "execution_count": null,
   "metadata": {},
   "outputs": [],
   "source": [
    "sex_age_plt = px.bar(trips_agg, x='rider_age', y='trip_count', color='gender',\n",
    "              title=\"Total Citibike Trips distribution based on the Rider's Gender and Age\",\n",
    "              labels={'rider_age':'Age', 'trip_count':'Total Trips made from March 2021 - 23', 'gender':'Gender'},\n",
    "              color_discrete_sequence=px.colors.qualitative.Vivid)\n",
    "\n",
    "sex_age_plt.show()"
   ]
  },
  {
   "cell_type": "code",
   "execution_count": null,
   "metadata": {},
   "outputs": [],
   "source": [
    "import datetime\n",
    "Citibike['month'] = Citibike['started_at'].apply(lambda x: x.strftime('%B'))"
   ]
  },
  {
   "cell_type": "code",
   "execution_count": null,
   "metadata": {},
   "outputs": [],
   "source": [
    "Citibike['year'] = Citibike['started_at'].apply(lambda x: x.year)"
   ]
  },
  {
   "cell_type": "code",
   "execution_count": null,
   "metadata": {},
   "outputs": [],
   "source": [
    "seasons = {\n",
    "    'Winter': [12, 1, 2],\n",
    "    'Spring': [3, 4, 5],\n",
    "    'Summer': [6, 7, 8],\n",
    "    'Autumn': [9, 10, 11]\n",
    "}"
   ]
  },
  {
   "cell_type": "code",
   "execution_count": null,
   "metadata": {},
   "outputs": [],
   "source": [
    "def get_season(month):\n",
    "    for season, months in seasons.items():\n",
    "        if month in months:\n",
    "            return season"
   ]
  },
  {
   "cell_type": "code",
   "execution_count": null,
   "metadata": {},
   "outputs": [],
   "source": [
    "Citibike['season'] = Citibike['started_at'].apply(lambda x: get_season(x.month))"
   ]
  },
  {
   "cell_type": "code",
   "execution_count": null,
   "metadata": {},
   "outputs": [],
   "source": [
    "# Group the data by season and year and count the number of rides\n",
    "rides_by_season = Citibike.groupby(['season', 'year']).size().reset_index(name='count')"
   ]
  },
  {
   "cell_type": "code",
   "execution_count": null,
   "metadata": {},
   "outputs": [],
   "source": [
    "# Pivot the data to create a matrix with season as rows, year as columns, and ride count as values\n",
    "pivot = rides_by_season.pivot(index='season', columns='year', values='count')"
   ]
  },
  {
   "cell_type": "code",
   "execution_count": null,
   "metadata": {},
   "outputs": [],
   "source": [
    "# Plot the pivot table as a bar graph\n",
    "import seaborn as sns\n",
    "import matplotlib.pyplot as plt\n",
    "# Make the line plot interactive using Plotly\n",
    "Season_plot = px.line(pivot.reset_index(), x='season', y=[2021, 2022, 2023], title='Seasonal Trend/Pattern for Citibike Rides from March 2021 - 23')\n",
    "Season_plot.update_xaxes(title=\"Season\")\n",
    "Season_plot.update_yaxes(title='Number of Citibike Rides')\n",
    "Season_plot.show()"
   ]
  },
  {
   "cell_type": "code",
   "execution_count": null,
   "metadata": {},
   "outputs": [],
   "source": [
    "sns.countplot(x='rideable_type', data=Citibike)\n",
    "plt.title('Count of Different Types of Citibikes')\n",
    "plt.xlabel('Citibike Types')\n",
    "plt.ylabel('Total Count')"
   ]
  },
  {
   "cell_type": "code",
   "execution_count": null,
   "metadata": {},
   "outputs": [],
   "source": [
    "sns.set(style=\"ticks\")\n",
    "\n",
    "# create a scatterplot matrix\n",
    "scatter_matrix = sns.pairplot(data=Citibike, \n",
    "                              vars=['rider_age'], \n",
    "                              hue='rideable_type', \n",
    "                              palette='bright')\n",
    "\n",
    "scatter_matrix.fig.set_size_inches(8, 6)\n",
    "\n",
    "# decrease the font size of the title\n",
    "scatter_matrix.fig.suptitle(\"Scatterplot Matrix of Age by Types of Citibikes.\", y=1.05, fontsize=16)\n",
    "\n",
    "plt.show()"
   ]
  },
  {
   "cell_type": "code",
   "execution_count": null,
   "metadata": {},
   "outputs": [],
   "source": [
    "import folium \n",
    "from folium.plugins import HeatMap\n",
    "import seaborn as sns"
   ]
  },
  {
   "cell_type": "code",
   "execution_count": null,
   "metadata": {},
   "outputs": [],
   "source": [
    "df = Citibike[Citibike['start_station_id'] != Citibike['end_station_id']]"
   ]
  },
  {
   "cell_type": "code",
   "execution_count": null,
   "metadata": {},
   "outputs": [],
   "source": [
    "route_counts = df.groupby(['start_station_name', 'start_lat', 'start_lng', 'end_station_name', 'end_lat', 'end_lng', 'member_casual']).size().reset_index(name='count')"
   ]
  },
  {
   "cell_type": "code",
   "execution_count": null,
   "metadata": {},
   "outputs": [],
   "source": [
    "member_routes = route_counts[route_counts['member_casual'] == 'member'].nlargest(25, 'count')\n",
    "casual_routes = route_counts[route_counts['member_casual'] == 'casual'].nlargest(25, 'count')"
   ]
  },
  {
   "cell_type": "code",
   "execution_count": null,
   "metadata": {},
   "outputs": [],
   "source": [
    "nj_map = folium.Map(location=[40.7128, -74.0060], zoom_start=12)"
   ]
  },
  {
   "cell_type": "code",
   "execution_count": null,
   "metadata": {},
   "outputs": [],
   "source": [
    "for i, row in member_routes.iterrows():\n",
    "    start_lat, start_lng, end_lat, end_lng = row['start_lat'], row['start_lng'], row['end_lat'], row['end_lng']\n",
    "    folium.Marker([start_lat, start_lng], popup=f\"{row['start_station_name']} to {row['end_station_name']} ({row['count']} rides)\").add_to(nj_map)\n",
    "    folium.PolyLine([(start_lat, start_lng), (end_lat, end_lng)], color='green', weight=2.5, opacity=1).add_to(nj_map)"
   ]
  },
  {
   "cell_type": "code",
   "execution_count": null,
   "metadata": {},
   "outputs": [],
   "source": [
    "for i, row in casual_routes.iterrows():\n",
    "    start_lat, start_lng, end_lat, end_lng = row['start_lat'], row['start_lng'], row['end_lat'], row['end_lng']\n",
    "    folium.Marker([start_lat, start_lng], popup=f\"{row['start_station_name']} to {row['end_station_name']} ({row['count']} rides)\").add_to(nj_map)\n",
    "    folium.PolyLine([(start_lat, start_lng), (end_lat, end_lng)], color='red', weight=2.5, opacity=1).add_to(nj_map)"
   ]
  },
  {
   "cell_type": "code",
   "execution_count": null,
   "metadata": {},
   "outputs": [],
   "source": [
    "nj_map\n"
   ]
  },
  {
   "cell_type": "code",
   "execution_count": null,
   "metadata": {},
   "outputs": [],
   "source": [
    "df1 = Citibike[Citibike['start_station_id'] != Citibike['end_station_id']]\n",
    "route_counts = df1.groupby(['start_station_name', 'start_lat', 'start_lng', 'end_station_name', 'end_lat', 'end_lng']).size().reset_index(name='count')\n",
    "top_routes = route_counts.nlargest(50, 'count')\n",
    "nj_map = folium.Map(location=[40.7128, -74.0060], zoom_start=12)\n",
    "for i, row in top_routes.iterrows():\n",
    "    start_lat, start_lng, end_lat, end_lng = row['start_lat'], row['start_lng'], row['end_lat'], row['end_lng']\n",
    "    folium.Marker([start_lat, start_lng], popup=f\"{row['start_station_name']} to {row['end_station_name']} ({row['count']} rides)\").add_to(nj_map)\n",
    "    folium.PolyLine([(start_lat, start_lng), (end_lat, end_lng)], color='blue', weight=2.5, opacity=1).add_to(nj_map)\n",
    "nj_map"
   ]
  },
  {
   "cell_type": "code",
   "execution_count": null,
   "metadata": {},
   "outputs": [],
   "source": [
    "casual_df = Citibike[Citibike['member_casual']=='casual']"
   ]
  },
  {
   "cell_type": "code",
   "execution_count": null,
   "metadata": {},
   "outputs": [],
   "source": [
    "# get the counts of rideable types for casual riders\n",
    "counts = casual_df['rideable_type'].value_counts()"
   ]
  },
  {
   "cell_type": "code",
   "execution_count": null,
   "metadata": {},
   "outputs": [],
   "source": [
    "plt.bar(counts.index, counts.values)\n",
    "plt.title('Counts of Rideable Types for Casual Riders')\n",
    "plt.xlabel('Types of Citibikes')\n",
    "plt.ylabel('Total Casual Riders')\n",
    "plt.show()"
   ]
  },
  {
   "cell_type": "code",
   "execution_count": null,
   "metadata": {},
   "outputs": [],
   "source": [
    "member_df = Citibike[Citibike['member_casual']=='member']"
   ]
  },
  {
   "cell_type": "code",
   "execution_count": null,
   "metadata": {},
   "outputs": [],
   "source": [
    "counts = member_df['rideable_type'].value_counts()"
   ]
  },
  {
   "cell_type": "code",
   "execution_count": null,
   "metadata": {},
   "outputs": [],
   "source": [
    "plt.bar(counts.index, counts.values)\n",
    "plt.title('Counts of Rideable Types for Members')\n",
    "plt.xlabel('Types of Citibikes')\n",
    "plt.ylabel('Total Member Riders')\n",
    "plt.show()"
   ]
  },
  {
   "attachments": {},
   "cell_type": "markdown",
   "metadata": {},
   "source": [
    "SPARK ANALYSIS FOR DISPLAYING SQL QUERIES"
   ]
  },
  {
   "cell_type": "code",
   "execution_count": null,
   "metadata": {},
   "outputs": [],
   "source": [
    "from pyspark.sql import SparkSession\n",
    "from pyspark.sql.functions import col\n",
    "from pyspark.sql.types import IntegerType"
   ]
  },
  {
   "cell_type": "code",
   "execution_count": null,
   "metadata": {},
   "outputs": [],
   "source": [
    "spark=SparkSession.builder.appName(\"OTR\").config(\"spark.sql.caseSensitive\",\"True\").getOrCreate()"
   ]
  },
  {
   "cell_type": "code",
   "execution_count": null,
   "metadata": {},
   "outputs": [],
   "source": [
    "spark_citi = spark.createDataFrame(Citibike)"
   ]
  },
  {
   "cell_type": "code",
   "execution_count": null,
   "metadata": {},
   "outputs": [],
   "source": [
    "spark_citi.createOrReplaceTempView(\"Citibike_table\")"
   ]
  },
  {
   "cell_type": "code",
   "execution_count": null,
   "metadata": {},
   "outputs": [],
   "source": [
    "spark.sql(\"SELECT * FROM Citibike_table LIMIT 5\").show()"
   ]
  },
  {
   "cell_type": "code",
   "execution_count": null,
   "metadata": {},
   "outputs": [],
   "source": [
    "total_records = spark.sql(\"SELECT COUNT (*) as total_records FROM Citibike_table\")\n",
    "total_records.show()"
   ]
  },
  {
   "attachments": {},
   "cell_type": "markdown",
   "metadata": {},
   "source": [
    "We can see that the pandas dataframe has been succesfully loaded into a Spark SQL table."
   ]
  },
  {
   "cell_type": "code",
   "execution_count": null,
   "metadata": {},
   "outputs": [],
   "source": [
    "t_g = spark.sql(\"SELECT gender, COUNT(*) as total_rides FROM Citibike_table GROUP BY gender\")\n",
    "t_g.show()"
   ]
  },
  {
   "cell_type": "code",
   "execution_count": null,
   "metadata": {},
   "outputs": [],
   "source": [
    "spark.sql(\"\"\"\n",
    "SELECT start_station_name, COUNT(*) as count\n",
    "FROM Citibike_table\n",
    "GROUP BY start_station_name\n",
    "ORDER BY count DESC\n",
    "LIMIT 10\n",
    "\"\"\").show()"
   ]
  },
  {
   "cell_type": "code",
   "execution_count": null,
   "metadata": {},
   "outputs": [],
   "source": [
    "spark.sql(\"\"\"\n",
    "SELECT end_station_name, COUNT(*) as count\n",
    "FROM Citibike_table\n",
    "GROUP BY end_station_name\n",
    "ORDER BY count DESC\n",
    "LIMIT 10\n",
    "\"\"\").show()"
   ]
  },
  {
   "cell_type": "code",
   "execution_count": null,
   "metadata": {},
   "outputs": [],
   "source": [
    "spark.sql(\"SELECT season, COUNT(*) as total_rides FROM Citibike_table GROUP BY season\").show()"
   ]
  },
  {
   "cell_type": "code",
   "execution_count": null,
   "metadata": {},
   "outputs": [],
   "source": [
    "spark.sql(\"SELECT gender, ROUND(AVG(rider_age),0) as average_age FROM Citibike_table GROUP BY gender\").show()"
   ]
  },
  {
   "cell_type": "code",
   "execution_count": null,
   "metadata": {},
   "outputs": [],
   "source": [
    "spark.sql(\"SELECT member_casual,COUNT(*) as User_count FROM Citibike_table GROUP BY member_casual\").show()"
   ]
  }
 ],
 "metadata": {
  "kernelspec": {
   "display_name": "Python 3",
   "language": "python",
   "name": "python3"
  },
  "language_info": {
   "codemirror_mode": {
    "name": "ipython",
    "version": 3
   },
   "file_extension": ".py",
   "mimetype": "text/x-python",
   "name": "python",
   "nbconvert_exporter": "python",
   "pygments_lexer": "ipython3",
   "version": "3.11.3"
  },
  "orig_nbformat": 4
 },
 "nbformat": 4,
 "nbformat_minor": 2
}
